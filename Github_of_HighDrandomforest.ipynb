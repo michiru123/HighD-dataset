{
  "nbformat": 4,
  "nbformat_minor": 0,
  "metadata": {
    "colab": {
      "name": "Github of HighDrandomforest.ipynb",
      "provenance": [],
      "toc_visible": true,
      "mount_file_id": "1katKoa1Ph7k2fdulLiuaTT_m4_kD-B6G",
      "authorship_tag": "ABX9TyM0LD0aSr+ozLs27Yk4+21B",
      "include_colab_link": true
    },
    "kernelspec": {
      "name": "python3",
      "display_name": "Python 3"
    }
  },
  "cells": [
    {
      "cell_type": "markdown",
      "metadata": {
        "id": "view-in-github",
        "colab_type": "text"
      },
      "source": [
        "<a href=\"https://colab.research.google.com/github/michiru123/HighD-dataset/blob/master/Github_of_HighDrandomforest.ipynb\" target=\"_parent\"><img src=\"https://colab.research.google.com/assets/colab-badge.svg\" alt=\"Open In Colab\"/></a>"
      ]
    },
    {
      "cell_type": "markdown",
      "metadata": {
        "id": "uzntmaplfcqM",
        "colab_type": "text"
      },
      "source": [
        "### Random Forest Structures using network\n",
        "Random Forest is a set of multiple decision tree, with the random combination between meaningful features. We can transform this model into a network to investigate  simultanously the contribution of each feature and their correlations. In the network, features is nodes, one edge is formed between 2 features when they both join in a decision tree.\n",
        "\n",
        "In the optimization stage, Random Forest model just keep features that hold most important roles and these fatures scattered within decision trees. The higher frequency of a feature appears in almost decision trees, the more important of that feature.\n",
        "\n",
        "Although the importance of a feature can be tested by variable importance, this method could not indicate the correlation between important features: a group of random features will correlate when they are in same decision tree structures. Beside joining randomly, a feature can combine with different features to create the rule for the decision tree, and a feature group appears in multiple trees mean they are important."
      ]
    },
    {
      "cell_type": "code",
      "metadata": {
        "id": "y7iPbODPfnD2",
        "colab_type": "code",
        "colab": {}
      },
      "source": [
        "from __future__ import print_function\n",
        "import warnings\n",
        "warnings.filterwarnings('ignore')\n",
        "\n",
        "from sklearn.ensemble import RandomForestClassifier\n",
        "from sklearn.datasets import make_classification\n",
        "from sklearn.model_selection import train_test_split \n",
        "\n",
        "import numpy as np\n",
        "import pandas as pd\n",
        "\n",
        "from numpy import random as nprand\n",
        "import random\n",
        "nprand.seed(100)\n",
        "random.seed(100)\n",
        "\n",
        "import networkx as nx\n",
        "\n",
        "import seaborn as sns\n",
        "from matplotlib import pyplot as plt\n",
        "\n",
        "plt.rcParams.update({\n",
        "    'figure.figsize': (15, 15),\n",
        "    'axes.spines.right': False,\n",
        "    'axes.spines.left': False,\n",
        "    'axes.spines.top': False,\n",
        "    'axes.spines.bottom': False})"
      ],
      "execution_count": 1,
      "outputs": []
    },
    {
      "cell_type": "markdown",
      "metadata": {
        "id": "jeEX2KIcfrFr",
        "colab_type": "text"
      },
      "source": [
        "###HighD Dataset\n",
        "We will use track 45 of HighD Dataset (2000 vehicles) for feature selections among 32 features."
      ]
    },
    {
      "cell_type": "code",
      "metadata": {
        "id": "61MJM5M0mix_",
        "colab_type": "code",
        "colab": {
          "base_uri": "https://localhost:8080/",
          "height": 456
        },
        "outputId": "2e425865-ea8e-40c4-a87a-05635d0dadad"
      },
      "source": [
        "df = pd.read_csv(\"https://raw.githubusercontent.com/michiru123/HighD-dataset/master/track45classed.csv\")\n",
        "df"
      ],
      "execution_count": 3,
      "outputs": [
        {
          "output_type": "execute_result",
          "data": {
            "text/html": [
              "<div>\n",
              "<style scoped>\n",
              "    .dataframe tbody tr th:only-of-type {\n",
              "        vertical-align: middle;\n",
              "    }\n",
              "\n",
              "    .dataframe tbody tr th {\n",
              "        vertical-align: top;\n",
              "    }\n",
              "\n",
              "    .dataframe thead th {\n",
              "        text-align: right;\n",
              "    }\n",
              "</style>\n",
              "<table border=\"1\" class=\"dataframe\">\n",
              "  <thead>\n",
              "    <tr style=\"text-align: right;\">\n",
              "      <th></th>\n",
              "      <th>Unnamed: 0</th>\n",
              "      <th>id</th>\n",
              "      <th>width</th>\n",
              "      <th>height</th>\n",
              "      <th>initialFrame</th>\n",
              "      <th>finalFrame</th>\n",
              "      <th>numFrames</th>\n",
              "      <th>class</th>\n",
              "      <th>drivingDirection</th>\n",
              "      <th>traveledDistance</th>\n",
              "      <th>minDHW</th>\n",
              "      <th>minTHW</th>\n",
              "      <th>minTTC</th>\n",
              "      <th>min_xVelocity</th>\n",
              "      <th>max_xVelocity</th>\n",
              "      <th>mean_xVelocity</th>\n",
              "      <th>min_yVelocity</th>\n",
              "      <th>max_yVelocity</th>\n",
              "      <th>mean_yVelocity</th>\n",
              "      <th>min_xAcceleration</th>\n",
              "      <th>max_xAcceleration</th>\n",
              "      <th>mean_xAcceleration</th>\n",
              "      <th>min_yAcceleration</th>\n",
              "      <th>max_yAcceleration</th>\n",
              "      <th>mean_yAcceleration</th>\n",
              "      <th>min_frontSightDistance</th>\n",
              "      <th>max_frontSightDistance</th>\n",
              "      <th>min_backSightDistance</th>\n",
              "      <th>max_backSightDistance</th>\n",
              "      <th>min_precedingXVelocity</th>\n",
              "      <th>max_precedingXVelocity</th>\n",
              "      <th>mean_laneId</th>\n",
              "      <th>numLaneChanges</th>\n",
              "    </tr>\n",
              "  </thead>\n",
              "  <tbody>\n",
              "    <tr>\n",
              "      <th>0</th>\n",
              "      <td>0</td>\n",
              "      <td>1</td>\n",
              "      <td>4.24</td>\n",
              "      <td>1.82</td>\n",
              "      <td>1</td>\n",
              "      <td>32</td>\n",
              "      <td>32</td>\n",
              "      <td>1</td>\n",
              "      <td>2</td>\n",
              "      <td>39.51</td>\n",
              "      <td>-1.00</td>\n",
              "      <td>-1.00</td>\n",
              "      <td>-1.00</td>\n",
              "      <td>31.66</td>\n",
              "      <td>32.41</td>\n",
              "      <td>32.03</td>\n",
              "      <td>-0.09</td>\n",
              "      <td>-0.03</td>\n",
              "      <td>-0.06</td>\n",
              "      <td>0.56</td>\n",
              "      <td>0.61</td>\n",
              "      <td>0.60</td>\n",
              "      <td>0.00</td>\n",
              "      <td>0.03</td>\n",
              "      <td>0.02</td>\n",
              "      <td>-1.47</td>\n",
              "      <td>36.13</td>\n",
              "      <td>375.49</td>\n",
              "      <td>413.08</td>\n",
              "      <td>0.00</td>\n",
              "      <td>0.00</td>\n",
              "      <td>6.0</td>\n",
              "      <td>0</td>\n",
              "    </tr>\n",
              "    <tr>\n",
              "      <th>1</th>\n",
              "      <td>1</td>\n",
              "      <td>2</td>\n",
              "      <td>4.14</td>\n",
              "      <td>1.82</td>\n",
              "      <td>1</td>\n",
              "      <td>45</td>\n",
              "      <td>45</td>\n",
              "      <td>1</td>\n",
              "      <td>1</td>\n",
              "      <td>65.37</td>\n",
              "      <td>-1.00</td>\n",
              "      <td>-1.00</td>\n",
              "      <td>-1.00</td>\n",
              "      <td>-37.61</td>\n",
              "      <td>-36.77</td>\n",
              "      <td>-37.20</td>\n",
              "      <td>-0.00</td>\n",
              "      <td>0.10</td>\n",
              "      <td>0.04</td>\n",
              "      <td>-0.52</td>\n",
              "      <td>-0.44</td>\n",
              "      <td>-0.48</td>\n",
              "      <td>0.00</td>\n",
              "      <td>0.06</td>\n",
              "      <td>0.04</td>\n",
              "      <td>-0.56</td>\n",
              "      <td>64.07</td>\n",
              "      <td>347.55</td>\n",
              "      <td>412.17</td>\n",
              "      <td>0.00</td>\n",
              "      <td>0.00</td>\n",
              "      <td>4.0</td>\n",
              "      <td>0</td>\n",
              "    </tr>\n",
              "    <tr>\n",
              "      <th>2</th>\n",
              "      <td>2</td>\n",
              "      <td>3</td>\n",
              "      <td>17.99</td>\n",
              "      <td>2.50</td>\n",
              "      <td>1</td>\n",
              "      <td>49</td>\n",
              "      <td>49</td>\n",
              "      <td>0</td>\n",
              "      <td>2</td>\n",
              "      <td>50.81</td>\n",
              "      <td>-1.00</td>\n",
              "      <td>-1.00</td>\n",
              "      <td>-1.00</td>\n",
              "      <td>26.25</td>\n",
              "      <td>26.90</td>\n",
              "      <td>26.57</td>\n",
              "      <td>0.18</td>\n",
              "      <td>0.20</td>\n",
              "      <td>0.19</td>\n",
              "      <td>0.29</td>\n",
              "      <td>0.34</td>\n",
              "      <td>0.33</td>\n",
              "      <td>0.00</td>\n",
              "      <td>0.01</td>\n",
              "      <td>0.01</td>\n",
              "      <td>-9.60</td>\n",
              "      <td>39.26</td>\n",
              "      <td>372.36</td>\n",
              "      <td>421.22</td>\n",
              "      <td>0.00</td>\n",
              "      <td>0.00</td>\n",
              "      <td>8.0</td>\n",
              "      <td>0</td>\n",
              "    </tr>\n",
              "    <tr>\n",
              "      <th>3</th>\n",
              "      <td>3</td>\n",
              "      <td>4</td>\n",
              "      <td>17.79</td>\n",
              "      <td>2.50</td>\n",
              "      <td>1</td>\n",
              "      <td>51</td>\n",
              "      <td>51</td>\n",
              "      <td>0</td>\n",
              "      <td>2</td>\n",
              "      <td>54.43</td>\n",
              "      <td>-1.00</td>\n",
              "      <td>-1.00</td>\n",
              "      <td>-1.00</td>\n",
              "      <td>26.72</td>\n",
              "      <td>27.93</td>\n",
              "      <td>27.32</td>\n",
              "      <td>0.00</td>\n",
              "      <td>0.03</td>\n",
              "      <td>0.02</td>\n",
              "      <td>0.56</td>\n",
              "      <td>0.62</td>\n",
              "      <td>0.61</td>\n",
              "      <td>0.00</td>\n",
              "      <td>0.01</td>\n",
              "      <td>0.01</td>\n",
              "      <td>-9.80</td>\n",
              "      <td>41.84</td>\n",
              "      <td>369.78</td>\n",
              "      <td>421.42</td>\n",
              "      <td>0.00</td>\n",
              "      <td>0.00</td>\n",
              "      <td>7.0</td>\n",
              "      <td>0</td>\n",
              "    </tr>\n",
              "    <tr>\n",
              "      <th>4</th>\n",
              "      <td>4</td>\n",
              "      <td>5</td>\n",
              "      <td>4.85</td>\n",
              "      <td>1.92</td>\n",
              "      <td>1</td>\n",
              "      <td>75</td>\n",
              "      <td>75</td>\n",
              "      <td>1</td>\n",
              "      <td>2</td>\n",
              "      <td>78.64</td>\n",
              "      <td>24.50</td>\n",
              "      <td>0.92</td>\n",
              "      <td>-1.00</td>\n",
              "      <td>25.95</td>\n",
              "      <td>27.40</td>\n",
              "      <td>26.66</td>\n",
              "      <td>-0.07</td>\n",
              "      <td>0.27</td>\n",
              "      <td>0.12</td>\n",
              "      <td>0.40</td>\n",
              "      <td>0.51</td>\n",
              "      <td>0.49</td>\n",
              "      <td>-0.12</td>\n",
              "      <td>-0.01</td>\n",
              "      <td>-0.10</td>\n",
              "      <td>-1.82</td>\n",
              "      <td>75.95</td>\n",
              "      <td>335.67</td>\n",
              "      <td>413.44</td>\n",
              "      <td>0.00</td>\n",
              "      <td>26.90</td>\n",
              "      <td>8.0</td>\n",
              "      <td>0</td>\n",
              "    </tr>\n",
              "    <tr>\n",
              "      <th>...</th>\n",
              "      <td>...</td>\n",
              "      <td>...</td>\n",
              "      <td>...</td>\n",
              "      <td>...</td>\n",
              "      <td>...</td>\n",
              "      <td>...</td>\n",
              "      <td>...</td>\n",
              "      <td>...</td>\n",
              "      <td>...</td>\n",
              "      <td>...</td>\n",
              "      <td>...</td>\n",
              "      <td>...</td>\n",
              "      <td>...</td>\n",
              "      <td>...</td>\n",
              "      <td>...</td>\n",
              "      <td>...</td>\n",
              "      <td>...</td>\n",
              "      <td>...</td>\n",
              "      <td>...</td>\n",
              "      <td>...</td>\n",
              "      <td>...</td>\n",
              "      <td>...</td>\n",
              "      <td>...</td>\n",
              "      <td>...</td>\n",
              "      <td>...</td>\n",
              "      <td>...</td>\n",
              "      <td>...</td>\n",
              "      <td>...</td>\n",
              "      <td>...</td>\n",
              "      <td>...</td>\n",
              "      <td>...</td>\n",
              "      <td>...</td>\n",
              "      <td>...</td>\n",
              "    </tr>\n",
              "    <tr>\n",
              "      <th>2444</th>\n",
              "      <td>2444</td>\n",
              "      <td>2445</td>\n",
              "      <td>5.66</td>\n",
              "      <td>2.22</td>\n",
              "      <td>27752</td>\n",
              "      <td>27826</td>\n",
              "      <td>75</td>\n",
              "      <td>1</td>\n",
              "      <td>1</td>\n",
              "      <td>99.90</td>\n",
              "      <td>22.65</td>\n",
              "      <td>0.66</td>\n",
              "      <td>-1.00</td>\n",
              "      <td>-34.29</td>\n",
              "      <td>-33.27</td>\n",
              "      <td>-33.80</td>\n",
              "      <td>-0.12</td>\n",
              "      <td>0.01</td>\n",
              "      <td>-0.05</td>\n",
              "      <td>0.27</td>\n",
              "      <td>0.39</td>\n",
              "      <td>0.34</td>\n",
              "      <td>-0.05</td>\n",
              "      <td>-0.00</td>\n",
              "      <td>-0.04</td>\n",
              "      <td>306.26</td>\n",
              "      <td>406.56</td>\n",
              "      <td>5.05</td>\n",
              "      <td>105.36</td>\n",
              "      <td>-35.03</td>\n",
              "      <td>-34.00</td>\n",
              "      <td>4.0</td>\n",
              "      <td>0</td>\n",
              "    </tr>\n",
              "    <tr>\n",
              "      <th>2445</th>\n",
              "      <td>2445</td>\n",
              "      <td>2446</td>\n",
              "      <td>18.39</td>\n",
              "      <td>2.50</td>\n",
              "      <td>27766</td>\n",
              "      <td>27826</td>\n",
              "      <td>61</td>\n",
              "      <td>0</td>\n",
              "      <td>1</td>\n",
              "      <td>65.20</td>\n",
              "      <td>104.94</td>\n",
              "      <td>3.88</td>\n",
              "      <td>23.72</td>\n",
              "      <td>-27.44</td>\n",
              "      <td>-27.00</td>\n",
              "      <td>-27.23</td>\n",
              "      <td>-0.06</td>\n",
              "      <td>-0.00</td>\n",
              "      <td>-0.04</td>\n",
              "      <td>0.15</td>\n",
              "      <td>0.20</td>\n",
              "      <td>0.18</td>\n",
              "      <td>-0.02</td>\n",
              "      <td>0.03</td>\n",
              "      <td>0.01</td>\n",
              "      <td>334.26</td>\n",
              "      <td>400.05</td>\n",
              "      <td>11.57</td>\n",
              "      <td>77.36</td>\n",
              "      <td>-23.48</td>\n",
              "      <td>-22.58</td>\n",
              "      <td>2.0</td>\n",
              "      <td>0</td>\n",
              "    </tr>\n",
              "    <tr>\n",
              "      <th>2446</th>\n",
              "      <td>2446</td>\n",
              "      <td>2447</td>\n",
              "      <td>4.04</td>\n",
              "      <td>1.72</td>\n",
              "      <td>27767</td>\n",
              "      <td>27826</td>\n",
              "      <td>60</td>\n",
              "      <td>1</td>\n",
              "      <td>2</td>\n",
              "      <td>74.26</td>\n",
              "      <td>46.37</td>\n",
              "      <td>1.45</td>\n",
              "      <td>217.71</td>\n",
              "      <td>31.09</td>\n",
              "      <td>31.83</td>\n",
              "      <td>31.52</td>\n",
              "      <td>0.00</td>\n",
              "      <td>0.09</td>\n",
              "      <td>0.06</td>\n",
              "      <td>0.21</td>\n",
              "      <td>0.44</td>\n",
              "      <td>0.31</td>\n",
              "      <td>0.00</td>\n",
              "      <td>0.03</td>\n",
              "      <td>0.03</td>\n",
              "      <td>333.65</td>\n",
              "      <td>408.23</td>\n",
              "      <td>3.39</td>\n",
              "      <td>77.97</td>\n",
              "      <td>30.95</td>\n",
              "      <td>31.67</td>\n",
              "      <td>7.0</td>\n",
              "      <td>0</td>\n",
              "    </tr>\n",
              "    <tr>\n",
              "      <th>2447</th>\n",
              "      <td>2447</td>\n",
              "      <td>2448</td>\n",
              "      <td>4.85</td>\n",
              "      <td>2.12</td>\n",
              "      <td>27770</td>\n",
              "      <td>27826</td>\n",
              "      <td>57</td>\n",
              "      <td>1</td>\n",
              "      <td>2</td>\n",
              "      <td>73.77</td>\n",
              "      <td>59.16</td>\n",
              "      <td>1.82</td>\n",
              "      <td>-1.00</td>\n",
              "      <td>32.53</td>\n",
              "      <td>33.61</td>\n",
              "      <td>33.05</td>\n",
              "      <td>-0.06</td>\n",
              "      <td>-0.00</td>\n",
              "      <td>-0.03</td>\n",
              "      <td>0.40</td>\n",
              "      <td>0.51</td>\n",
              "      <td>0.49</td>\n",
              "      <td>-0.02</td>\n",
              "      <td>-0.00</td>\n",
              "      <td>-0.02</td>\n",
              "      <td>332.84</td>\n",
              "      <td>406.92</td>\n",
              "      <td>4.70</td>\n",
              "      <td>78.78</td>\n",
              "      <td>34.65</td>\n",
              "      <td>35.98</td>\n",
              "      <td>6.0</td>\n",
              "      <td>0</td>\n",
              "    </tr>\n",
              "    <tr>\n",
              "      <th>2448</th>\n",
              "      <td>2448</td>\n",
              "      <td>2449</td>\n",
              "      <td>4.65</td>\n",
              "      <td>1.92</td>\n",
              "      <td>27776</td>\n",
              "      <td>27826</td>\n",
              "      <td>51</td>\n",
              "      <td>1</td>\n",
              "      <td>1</td>\n",
              "      <td>69.05</td>\n",
              "      <td>27.04</td>\n",
              "      <td>0.78</td>\n",
              "      <td>25.56</td>\n",
              "      <td>-34.82</td>\n",
              "      <td>-34.32</td>\n",
              "      <td>-34.60</td>\n",
              "      <td>-0.27</td>\n",
              "      <td>-0.24</td>\n",
              "      <td>-0.26</td>\n",
              "      <td>0.19</td>\n",
              "      <td>0.30</td>\n",
              "      <td>0.25</td>\n",
              "      <td>0.00</td>\n",
              "      <td>0.01</td>\n",
              "      <td>0.01</td>\n",
              "      <td>338.50</td>\n",
              "      <td>407.93</td>\n",
              "      <td>3.69</td>\n",
              "      <td>73.12</td>\n",
              "      <td>-34.00</td>\n",
              "      <td>-33.27</td>\n",
              "      <td>4.0</td>\n",
              "      <td>0</td>\n",
              "    </tr>\n",
              "  </tbody>\n",
              "</table>\n",
              "<p>2449 rows × 33 columns</p>\n",
              "</div>"
            ],
            "text/plain": [
              "      Unnamed: 0    id  ...  mean_laneId  numLaneChanges\n",
              "0              0     1  ...          6.0               0\n",
              "1              1     2  ...          4.0               0\n",
              "2              2     3  ...          8.0               0\n",
              "3              3     4  ...          7.0               0\n",
              "4              4     5  ...          8.0               0\n",
              "...          ...   ...  ...          ...             ...\n",
              "2444        2444  2445  ...          4.0               0\n",
              "2445        2445  2446  ...          2.0               0\n",
              "2446        2446  2447  ...          7.0               0\n",
              "2447        2447  2448  ...          6.0               0\n",
              "2448        2448  2449  ...          4.0               0\n",
              "\n",
              "[2449 rows x 33 columns]"
            ]
          },
          "metadata": {
            "tags": []
          },
          "execution_count": 3
        }
      ]
    },
    {
      "cell_type": "code",
      "metadata": {
        "id": "0eT82ZbCfxU1",
        "colab_type": "code",
        "colab": {
          "base_uri": "https://localhost:8080/",
          "height": 241
        },
        "outputId": "2f9f0f6f-06f3-42e7-a49f-392ef6d0bffa"
      },
      "source": [
        "Xdf = df.drop('numLaneChanges', 1)\n",
        "#Xdf['class'] = pd.get_dummies(Xdf['class']) #1:Car 0:Truck\n",
        "Xdf.head()"
      ],
      "execution_count": 4,
      "outputs": [
        {
          "output_type": "execute_result",
          "data": {
            "text/html": [
              "<div>\n",
              "<style scoped>\n",
              "    .dataframe tbody tr th:only-of-type {\n",
              "        vertical-align: middle;\n",
              "    }\n",
              "\n",
              "    .dataframe tbody tr th {\n",
              "        vertical-align: top;\n",
              "    }\n",
              "\n",
              "    .dataframe thead th {\n",
              "        text-align: right;\n",
              "    }\n",
              "</style>\n",
              "<table border=\"1\" class=\"dataframe\">\n",
              "  <thead>\n",
              "    <tr style=\"text-align: right;\">\n",
              "      <th></th>\n",
              "      <th>Unnamed: 0</th>\n",
              "      <th>id</th>\n",
              "      <th>width</th>\n",
              "      <th>height</th>\n",
              "      <th>initialFrame</th>\n",
              "      <th>finalFrame</th>\n",
              "      <th>numFrames</th>\n",
              "      <th>class</th>\n",
              "      <th>drivingDirection</th>\n",
              "      <th>traveledDistance</th>\n",
              "      <th>minDHW</th>\n",
              "      <th>minTHW</th>\n",
              "      <th>minTTC</th>\n",
              "      <th>min_xVelocity</th>\n",
              "      <th>max_xVelocity</th>\n",
              "      <th>mean_xVelocity</th>\n",
              "      <th>min_yVelocity</th>\n",
              "      <th>max_yVelocity</th>\n",
              "      <th>mean_yVelocity</th>\n",
              "      <th>min_xAcceleration</th>\n",
              "      <th>max_xAcceleration</th>\n",
              "      <th>mean_xAcceleration</th>\n",
              "      <th>min_yAcceleration</th>\n",
              "      <th>max_yAcceleration</th>\n",
              "      <th>mean_yAcceleration</th>\n",
              "      <th>min_frontSightDistance</th>\n",
              "      <th>max_frontSightDistance</th>\n",
              "      <th>min_backSightDistance</th>\n",
              "      <th>max_backSightDistance</th>\n",
              "      <th>min_precedingXVelocity</th>\n",
              "      <th>max_precedingXVelocity</th>\n",
              "      <th>mean_laneId</th>\n",
              "    </tr>\n",
              "  </thead>\n",
              "  <tbody>\n",
              "    <tr>\n",
              "      <th>0</th>\n",
              "      <td>0</td>\n",
              "      <td>1</td>\n",
              "      <td>4.24</td>\n",
              "      <td>1.82</td>\n",
              "      <td>1</td>\n",
              "      <td>32</td>\n",
              "      <td>32</td>\n",
              "      <td>1</td>\n",
              "      <td>2</td>\n",
              "      <td>39.51</td>\n",
              "      <td>-1.0</td>\n",
              "      <td>-1.00</td>\n",
              "      <td>-1.0</td>\n",
              "      <td>31.66</td>\n",
              "      <td>32.41</td>\n",
              "      <td>32.03</td>\n",
              "      <td>-0.09</td>\n",
              "      <td>-0.03</td>\n",
              "      <td>-0.06</td>\n",
              "      <td>0.56</td>\n",
              "      <td>0.61</td>\n",
              "      <td>0.60</td>\n",
              "      <td>0.00</td>\n",
              "      <td>0.03</td>\n",
              "      <td>0.02</td>\n",
              "      <td>-1.47</td>\n",
              "      <td>36.13</td>\n",
              "      <td>375.49</td>\n",
              "      <td>413.08</td>\n",
              "      <td>0.0</td>\n",
              "      <td>0.0</td>\n",
              "      <td>6.0</td>\n",
              "    </tr>\n",
              "    <tr>\n",
              "      <th>1</th>\n",
              "      <td>1</td>\n",
              "      <td>2</td>\n",
              "      <td>4.14</td>\n",
              "      <td>1.82</td>\n",
              "      <td>1</td>\n",
              "      <td>45</td>\n",
              "      <td>45</td>\n",
              "      <td>1</td>\n",
              "      <td>1</td>\n",
              "      <td>65.37</td>\n",
              "      <td>-1.0</td>\n",
              "      <td>-1.00</td>\n",
              "      <td>-1.0</td>\n",
              "      <td>-37.61</td>\n",
              "      <td>-36.77</td>\n",
              "      <td>-37.20</td>\n",
              "      <td>-0.00</td>\n",
              "      <td>0.10</td>\n",
              "      <td>0.04</td>\n",
              "      <td>-0.52</td>\n",
              "      <td>-0.44</td>\n",
              "      <td>-0.48</td>\n",
              "      <td>0.00</td>\n",
              "      <td>0.06</td>\n",
              "      <td>0.04</td>\n",
              "      <td>-0.56</td>\n",
              "      <td>64.07</td>\n",
              "      <td>347.55</td>\n",
              "      <td>412.17</td>\n",
              "      <td>0.0</td>\n",
              "      <td>0.0</td>\n",
              "      <td>4.0</td>\n",
              "    </tr>\n",
              "    <tr>\n",
              "      <th>2</th>\n",
              "      <td>2</td>\n",
              "      <td>3</td>\n",
              "      <td>17.99</td>\n",
              "      <td>2.50</td>\n",
              "      <td>1</td>\n",
              "      <td>49</td>\n",
              "      <td>49</td>\n",
              "      <td>0</td>\n",
              "      <td>2</td>\n",
              "      <td>50.81</td>\n",
              "      <td>-1.0</td>\n",
              "      <td>-1.00</td>\n",
              "      <td>-1.0</td>\n",
              "      <td>26.25</td>\n",
              "      <td>26.90</td>\n",
              "      <td>26.57</td>\n",
              "      <td>0.18</td>\n",
              "      <td>0.20</td>\n",
              "      <td>0.19</td>\n",
              "      <td>0.29</td>\n",
              "      <td>0.34</td>\n",
              "      <td>0.33</td>\n",
              "      <td>0.00</td>\n",
              "      <td>0.01</td>\n",
              "      <td>0.01</td>\n",
              "      <td>-9.60</td>\n",
              "      <td>39.26</td>\n",
              "      <td>372.36</td>\n",
              "      <td>421.22</td>\n",
              "      <td>0.0</td>\n",
              "      <td>0.0</td>\n",
              "      <td>8.0</td>\n",
              "    </tr>\n",
              "    <tr>\n",
              "      <th>3</th>\n",
              "      <td>3</td>\n",
              "      <td>4</td>\n",
              "      <td>17.79</td>\n",
              "      <td>2.50</td>\n",
              "      <td>1</td>\n",
              "      <td>51</td>\n",
              "      <td>51</td>\n",
              "      <td>0</td>\n",
              "      <td>2</td>\n",
              "      <td>54.43</td>\n",
              "      <td>-1.0</td>\n",
              "      <td>-1.00</td>\n",
              "      <td>-1.0</td>\n",
              "      <td>26.72</td>\n",
              "      <td>27.93</td>\n",
              "      <td>27.32</td>\n",
              "      <td>0.00</td>\n",
              "      <td>0.03</td>\n",
              "      <td>0.02</td>\n",
              "      <td>0.56</td>\n",
              "      <td>0.62</td>\n",
              "      <td>0.61</td>\n",
              "      <td>0.00</td>\n",
              "      <td>0.01</td>\n",
              "      <td>0.01</td>\n",
              "      <td>-9.80</td>\n",
              "      <td>41.84</td>\n",
              "      <td>369.78</td>\n",
              "      <td>421.42</td>\n",
              "      <td>0.0</td>\n",
              "      <td>0.0</td>\n",
              "      <td>7.0</td>\n",
              "    </tr>\n",
              "    <tr>\n",
              "      <th>4</th>\n",
              "      <td>4</td>\n",
              "      <td>5</td>\n",
              "      <td>4.85</td>\n",
              "      <td>1.92</td>\n",
              "      <td>1</td>\n",
              "      <td>75</td>\n",
              "      <td>75</td>\n",
              "      <td>1</td>\n",
              "      <td>2</td>\n",
              "      <td>78.64</td>\n",
              "      <td>24.5</td>\n",
              "      <td>0.92</td>\n",
              "      <td>-1.0</td>\n",
              "      <td>25.95</td>\n",
              "      <td>27.40</td>\n",
              "      <td>26.66</td>\n",
              "      <td>-0.07</td>\n",
              "      <td>0.27</td>\n",
              "      <td>0.12</td>\n",
              "      <td>0.40</td>\n",
              "      <td>0.51</td>\n",
              "      <td>0.49</td>\n",
              "      <td>-0.12</td>\n",
              "      <td>-0.01</td>\n",
              "      <td>-0.10</td>\n",
              "      <td>-1.82</td>\n",
              "      <td>75.95</td>\n",
              "      <td>335.67</td>\n",
              "      <td>413.44</td>\n",
              "      <td>0.0</td>\n",
              "      <td>26.9</td>\n",
              "      <td>8.0</td>\n",
              "    </tr>\n",
              "  </tbody>\n",
              "</table>\n",
              "</div>"
            ],
            "text/plain": [
              "   Unnamed: 0  id  ...  max_precedingXVelocity  mean_laneId\n",
              "0           0   1  ...                     0.0          6.0\n",
              "1           1   2  ...                     0.0          4.0\n",
              "2           2   3  ...                     0.0          8.0\n",
              "3           3   4  ...                     0.0          7.0\n",
              "4           4   5  ...                    26.9          8.0\n",
              "\n",
              "[5 rows x 32 columns]"
            ]
          },
          "metadata": {
            "tags": []
          },
          "execution_count": 4
        }
      ]
    },
    {
      "cell_type": "code",
      "metadata": {
        "id": "ir5DpWM_q1E8",
        "colab_type": "code",
        "colab": {}
      },
      "source": [
        "y = df['numLaneChanges']\n",
        "features = np.array(Xdf.columns)"
      ],
      "execution_count": 5,
      "outputs": []
    },
    {
      "cell_type": "markdown",
      "metadata": {
        "id": "MguWlW4Sf0PK",
        "colab_type": "text"
      },
      "source": [
        "Then we create a RandomForest classifier with 500 decision trees in X"
      ]
    },
    {
      "cell_type": "code",
      "metadata": {
        "id": "JFTWnM1mf08u",
        "colab_type": "code",
        "colab": {
          "base_uri": "https://localhost:8080/",
          "height": 153
        },
        "outputId": "d2a02f7a-c6f1-4980-e04d-39bcb3e580a3"
      },
      "source": [
        "clf = RandomForestClassifier(max_depth=5, random_state=0, n_estimators=500)\n",
        "clf.fit(Xdf, y)"
      ],
      "execution_count": 6,
      "outputs": [
        {
          "output_type": "execute_result",
          "data": {
            "text/plain": [
              "RandomForestClassifier(bootstrap=True, ccp_alpha=0.0, class_weight=None,\n",
              "                       criterion='gini', max_depth=5, max_features='auto',\n",
              "                       max_leaf_nodes=None, max_samples=None,\n",
              "                       min_impurity_decrease=0.0, min_impurity_split=None,\n",
              "                       min_samples_leaf=1, min_samples_split=2,\n",
              "                       min_weight_fraction_leaf=0.0, n_estimators=500,\n",
              "                       n_jobs=None, oob_score=False, random_state=0, verbose=0,\n",
              "                       warm_start=False)"
            ]
          },
          "metadata": {
            "tags": []
          },
          "execution_count": 6
        }
      ]
    },
    {
      "cell_type": "markdown",
      "metadata": {
        "id": "1PuCgbn5f-1Z",
        "colab_type": "text"
      },
      "source": [
        "These decision tree are saved as estimators_ of model object:"
      ]
    },
    {
      "cell_type": "code",
      "metadata": {
        "id": "qXv7-KgYf6fG",
        "colab_type": "code",
        "colab": {
          "base_uri": "https://localhost:8080/",
          "height": 323
        },
        "outputId": "be54aff1-e90f-4a7b-b3c9-21cff61fb7e6"
      },
      "source": [
        "clf.estimators_[0:3]"
      ],
      "execution_count": 7,
      "outputs": [
        {
          "output_type": "execute_result",
          "data": {
            "text/plain": [
              "[DecisionTreeClassifier(ccp_alpha=0.0, class_weight=None, criterion='gini',\n",
              "                        max_depth=5, max_features='auto', max_leaf_nodes=None,\n",
              "                        min_impurity_decrease=0.0, min_impurity_split=None,\n",
              "                        min_samples_leaf=1, min_samples_split=2,\n",
              "                        min_weight_fraction_leaf=0.0, presort='deprecated',\n",
              "                        random_state=209652396, splitter='best'),\n",
              " DecisionTreeClassifier(ccp_alpha=0.0, class_weight=None, criterion='gini',\n",
              "                        max_depth=5, max_features='auto', max_leaf_nodes=None,\n",
              "                        min_impurity_decrease=0.0, min_impurity_split=None,\n",
              "                        min_samples_leaf=1, min_samples_split=2,\n",
              "                        min_weight_fraction_leaf=0.0, presort='deprecated',\n",
              "                        random_state=398764591, splitter='best'),\n",
              " DecisionTreeClassifier(ccp_alpha=0.0, class_weight=None, criterion='gini',\n",
              "                        max_depth=5, max_features='auto', max_leaf_nodes=None,\n",
              "                        min_impurity_decrease=0.0, min_impurity_split=None,\n",
              "                        min_samples_leaf=1, min_samples_split=2,\n",
              "                        min_weight_fraction_leaf=0.0, presort='deprecated',\n",
              "                        random_state=924231285, splitter='best')]"
            ]
          },
          "metadata": {
            "tags": []
          },
          "execution_count": 7
        }
      ]
    },
    {
      "cell_type": "markdown",
      "metadata": {
        "id": "gQmI-BLvgCYV",
        "colab_type": "text"
      },
      "source": [
        "each decision tree has data of most important features, and stored in featureimportance."
      ]
    },
    {
      "cell_type": "code",
      "metadata": {
        "id": "CEc7848dgEbc",
        "colab_type": "code",
        "colab": {
          "base_uri": "https://localhost:8080/",
          "height": 136
        },
        "outputId": "68693f74-bc71-4f49-e9ed-7d72d17f8ee8"
      },
      "source": [
        "clf.estimators_[99].feature_importances_"
      ],
      "execution_count": 8,
      "outputs": [
        {
          "output_type": "execute_result",
          "data": {
            "text/plain": [
              "array([0.00207494, 0.        , 0.        , 0.0037153 , 0.        ,\n",
              "       0.00844254, 0.        , 0.        , 0.        , 0.        ,\n",
              "       0.        , 0.01298652, 0.00206756, 0.        , 0.        ,\n",
              "       0.        , 0.09870714, 0.        , 0.108125  , 0.        ,\n",
              "       0.00395744, 0.        , 0.11131424, 0.56371084, 0.01208531,\n",
              "       0.05266602, 0.00204727, 0.00879431, 0.        , 0.00284443,\n",
              "       0.        , 0.00646113])"
            ]
          },
          "metadata": {
            "tags": []
          },
          "execution_count": 8
        }
      ]
    },
    {
      "cell_type": "markdown",
      "metadata": {
        "id": "79DQpxu9gJvO",
        "colab_type": "text"
      },
      "source": [
        "We can drop all features with importance score = 0.0, since it doesnt impact on rules of decision tree, the decision tree number 99 has 16 important features."
      ]
    },
    {
      "cell_type": "code",
      "metadata": {
        "id": "lOWbGaOtgK5u",
        "colab_type": "code",
        "colab": {
          "base_uri": "https://localhost:8080/",
          "height": 34
        },
        "outputId": "b0f9f1b7-ac5d-4075-b7d1-8bbc22d450fb"
      },
      "source": [
        "sum(clf.estimators_[99].feature_importances_ > 0)"
      ],
      "execution_count": 9,
      "outputs": [
        {
          "output_type": "execute_result",
          "data": {
            "text/plain": [
              "16"
            ]
          },
          "metadata": {
            "tags": []
          },
          "execution_count": 9
        }
      ]
    },
    {
      "cell_type": "markdown",
      "metadata": {
        "id": "UNcZDKG9gP_0",
        "colab_type": "text"
      },
      "source": [
        "Then we write a function to transfer info of features importance into a network, the function will receive data as random forest model, with list of features in X, and feature importance threshold as 0.15...\n",
        "\n",
        "Network was create as a Graph, each time 1 feature appear in 1 decition tree, and have feature importance score higher than the threshold, it will be stored in the network as a node, the number of feature appearance in different decision trees will be culmulated to make \"count\" feature, the value of feature importance also added up to create feature \" score\", then feature \"avg_vimp\" is the average of feature importance = sum of score / sum count. When 2 features are selected in 1 tree, 1 edge between 2 nodes will be created, the number of pairing of these nodes will be written in feature \"count\" as the weight of edge."
      ]
    },
    {
      "cell_type": "code",
      "metadata": {
        "id": "GAUk-Mn4gSi9",
        "colab_type": "code",
        "colab": {}
      },
      "source": [
        "   def random_forest_to_network(rf_mod, features, thres = 0.1):\n",
        "    \n",
        "    G = nx.Graph()\n",
        "    trees = rf_mod.estimators_\n",
        "    \n",
        "    for tree in trees:\n",
        "        vimp_scores = tree.feature_importances_\n",
        "        vimps = features[vimp_scores > thres]\n",
        "        scores = vimp_scores[vimp_scores > thres]\n",
        "        \n",
        "        for v,s in zip(vimps,scores):\n",
        "            try:\n",
        "                G.nodes[v]['count'] += 1\n",
        "                G.nodes[v]['score'] += s\n",
        "            except KeyError:\n",
        "                G.add_node(v)\n",
        "                G.nodes[v]['count'] = 1\n",
        "                G.nodes[v]['score'] = s\n",
        "            for w in vimps:\n",
        "                try:\n",
        "                    G.edges[v, w]['count'] += 1\n",
        "                except KeyError:\n",
        "                    G.add_edge(v, w, count=1)\n",
        "    \n",
        "    for n,d in G.nodes(data = True):\n",
        "        G.nodes[n]['avg_vimp'] = d['score']/d['count']\n",
        "    \n",
        "    return G"
      ],
      "execution_count": 10,
      "outputs": []
    },
    {
      "cell_type": "markdown",
      "metadata": {
        "id": "r8H7PQ1agcfA",
        "colab_type": "text"
      },
      "source": [
        "We apply the function for RF model and X"
      ]
    },
    {
      "cell_type": "code",
      "metadata": {
        "id": "Y2vIaw2Pgei3",
        "colab_type": "code",
        "colab": {}
      },
      "source": [
        "features = np.array(Xdf.columns)\n",
        "\n",
        "G = random_forest_to_network(clf, features, thres = 0.13)"
      ],
      "execution_count": 17,
      "outputs": []
    },
    {
      "cell_type": "markdown",
      "metadata": {
        "id": "E2zi0ObNgh50",
        "colab_type": "text"
      },
      "source": [
        "There are 8 features (nodes) written in the network."
      ]
    },
    {
      "cell_type": "code",
      "metadata": {
        "id": "lTIXt7j8gjsu",
        "colab_type": "code",
        "colab": {
          "base_uri": "https://localhost:8080/",
          "height": 34
        },
        "outputId": "afa6316d-ecd3-40ee-cdc3-a58aeea4dace"
      },
      "source": [
        "len(G.nodes)"
      ],
      "execution_count": 18,
      "outputs": [
        {
          "output_type": "execute_result",
          "data": {
            "text/plain": [
              "8"
            ]
          },
          "metadata": {
            "tags": []
          },
          "execution_count": 18
        }
      ]
    },
    {
      "cell_type": "markdown",
      "metadata": {
        "id": "7WdASuz8gmDe",
        "colab_type": "text"
      },
      "source": [
        "and 29 pairs"
      ]
    },
    {
      "cell_type": "code",
      "metadata": {
        "id": "2BQOJEgbgnoq",
        "colab_type": "code",
        "colab": {
          "base_uri": "https://localhost:8080/",
          "height": 34
        },
        "outputId": "0d363a0d-6c0b-4cb1-f45a-e85ccd1786fd"
      },
      "source": [
        "len(G.edges)"
      ],
      "execution_count": 19,
      "outputs": [
        {
          "output_type": "execute_result",
          "data": {
            "text/plain": [
              "29"
            ]
          },
          "metadata": {
            "tags": []
          },
          "execution_count": 19
        }
      ]
    },
    {
      "cell_type": "markdown",
      "metadata": {
        "id": "ouXSuDDcgqgZ",
        "colab_type": "text"
      },
      "source": [
        "features of nodes:"
      ]
    },
    {
      "cell_type": "code",
      "metadata": {
        "id": "jvmmAqoIgsWS",
        "colab_type": "code",
        "colab": {
          "base_uri": "https://localhost:8080/",
          "height": 54
        },
        "outputId": "82ad6799-1f06-416a-b588-09e8b1c4503e"
      },
      "source": [
        "G.nodes(data=True)"
      ],
      "execution_count": 20,
      "outputs": [
        {
          "output_type": "execute_result",
          "data": {
            "text/plain": [
              "NodeDataView({'max_yVelocity': {'count': 157, 'score': 52.13907128192921, 'avg_vimp': 0.3320959954263007}, 'mean_yVelocity': {'count': 261, 'score': 99.01475270965436, 'avg_vimp': 0.37936686861936536}, 'mean_yAcceleration': {'count': 30, 'score': 4.847524066807157, 'avg_vimp': 0.16158413556023857}, 'min_yVelocity': {'count': 145, 'score': 50.45992497559794, 'avg_vimp': 0.34799948259033064}, 'max_yAcceleration': {'count': 215, 'score': 89.93426268528175, 'avg_vimp': 0.4182988962106128}, 'min_yAcceleration': {'count': 191, 'score': 81.01771854931519, 'avg_vimp': 0.42417653690740936}, 'mean_laneId': {'count': 6, 'score': 1.9634425573679308, 'avg_vimp': 0.3272404262279885}, 'minDHW': {'count': 1, 'score': 0.16819266793991444, 'avg_vimp': 0.16819266793991444}})"
            ]
          },
          "metadata": {
            "tags": []
          },
          "execution_count": 20
        }
      ]
    },
    {
      "cell_type": "markdown",
      "metadata": {
        "id": "SXJbwdDIgvJY",
        "colab_type": "text"
      },
      "source": [
        "features of edges"
      ]
    },
    {
      "cell_type": "code",
      "metadata": {
        "id": "QtPf_H-egw_7",
        "colab_type": "code",
        "colab": {
          "base_uri": "https://localhost:8080/",
          "height": 54
        },
        "outputId": "472be3d8-bbe2-4986-daa9-fd3b921acf62"
      },
      "source": [
        "G.edges(data =True)"
      ],
      "execution_count": 21,
      "outputs": [
        {
          "output_type": "execute_result",
          "data": {
            "text/plain": [
              "EdgeDataView([('max_yVelocity', 'max_yVelocity', {'count': 157}), ('max_yVelocity', 'mean_yVelocity', {'count': 150}), ('max_yVelocity', 'mean_yAcceleration', {'count': 12}), ('max_yVelocity', 'min_yVelocity', {'count': 92}), ('max_yVelocity', 'max_yAcceleration', {'count': 96}), ('max_yVelocity', 'min_yAcceleration', {'count': 74}), ('max_yVelocity', 'mean_laneId', {'count': 2}), ('mean_yVelocity', 'mean_yVelocity', {'count': 261}), ('mean_yVelocity', 'mean_yAcceleration', {'count': 20}), ('mean_yVelocity', 'max_yAcceleration', {'count': 176}), ('mean_yVelocity', 'min_yAcceleration', {'count': 170}), ('mean_yVelocity', 'min_yVelocity', {'count': 100}), ('mean_yVelocity', 'minDHW', {'count': 2}), ('mean_yAcceleration', 'mean_yAcceleration', {'count': 30}), ('mean_yAcceleration', 'max_yAcceleration', {'count': 24}), ('mean_yAcceleration', 'min_yVelocity', {'count': 16}), ('mean_yAcceleration', 'min_yAcceleration', {'count': 22}), ('min_yVelocity', 'min_yVelocity', {'count': 145}), ('min_yVelocity', 'max_yAcceleration', {'count': 84}), ('min_yVelocity', 'min_yAcceleration', {'count': 88}), ('min_yVelocity', 'mean_laneId', {'count': 6}), ('max_yAcceleration', 'max_yAcceleration', {'count': 215}), ('max_yAcceleration', 'min_yAcceleration', {'count': 80}), ('max_yAcceleration', 'mean_laneId', {'count': 4}), ('min_yAcceleration', 'min_yAcceleration', {'count': 191}), ('min_yAcceleration', 'mean_laneId', {'count': 6}), ('min_yAcceleration', 'minDHW', {'count': 2}), ('mean_laneId', 'mean_laneId', {'count': 6}), ('minDHW', 'minDHW', {'count': 1})])"
            ]
          },
          "metadata": {
            "tags": []
          },
          "execution_count": 21
        }
      ]
    },
    {
      "cell_type": "code",
      "metadata": {
        "id": "aGPB2KWVg0mR",
        "colab_type": "code",
        "colab": {
          "base_uri": "https://localhost:8080/",
          "height": 265
        },
        "outputId": "a59f4650-5e91-47e1-d3f7-a6fcdcce08b4"
      },
      "source": [
        "node_sizes = [5000*d['avg_vimp'] for n,d in G.nodes(data = True)]\n",
        "weights = [np.log2(d['count']) for s, t, d in G.edges(data=True)]\n",
        "\n",
        "pos=nx.spring_layout(G, k = 0.6)\n",
        "\n",
        "nx.draw_networkx_nodes(G, pos, alpha=1.0, node_size = node_sizes , node_color = 'red')\n",
        "nx.draw_networkx_labels(G, pos, font_size = 12, font_color = 'black')\n",
        "nx.draw_networkx_edges(G, pos, edge_color=\"red\", width = weights, alpha=0.5)"
      ],
      "execution_count": 22,
      "outputs": [
        {
          "output_type": "execute_result",
          "data": {
            "text/plain": [
              "<matplotlib.collections.LineCollection at 0x7f38901b74a8>"
            ]
          },
          "metadata": {
            "tags": []
          },
          "execution_count": 22
        },
        {
          "output_type": "display_data",
          "data": {
            "image/png": "[encoded data removed]",
            "text/plain": [
              "<Figure size 432x288 with 1 Axes>"
            ]
          },
          "metadata": {
            "tags": []
          }
        }
      ]
    },
    {
      "cell_type": "code",
      "metadata": {
        "id": "6czkwI_E156R",
        "colab_type": "code",
        "colab": {
          "base_uri": "https://localhost:8080/",
          "height": 265
        },
        "outputId": "2c2c1e43-7641-49d1-9fd9-102360c1badc"
      },
      "source": [
        "node_sizes = [5000*d['avg_vimp'] for n,d in G.nodes(data = True)]\n",
        "weights = [np.log2(d['count']) for s, t, d in G.edges(data=True)]\n",
        "\n",
        "pos=nx.spring_layout(G, k=0.6)\n",
        "\n",
        "nx.draw_networkx_nodes(G, pos, alpha=1.0, node_size = node_sizes , node_color = '#fca903')\n",
        "nx.draw_networkx_labels(G, pos, font_size = 12, font_color = 'black')\n",
        "nx.draw_networkx_edges(G, pos, edge_color='#fc5a03',width = weights, alpha=0.6)"
      ],
      "execution_count": 23,
      "outputs": [
        {
          "output_type": "execute_result",
          "data": {
            "text/plain": [
              "<matplotlib.collections.LineCollection at 0x7f388d513a90>"
            ]
          },
          "metadata": {
            "tags": []
          },
          "execution_count": 23
        },
        {
          "output_type": "display_data",
          "data": {
            "image/png": "[encoded data removed]",
            "text/plain": [
              "<Figure size 432x288 with 1 Axes>"
            ]
          },
          "metadata": {
            "tags": []
          }
        }
      ]
    }
  ]
}